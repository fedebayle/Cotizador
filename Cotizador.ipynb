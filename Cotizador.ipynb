{
 "metadata": {
  "name": "",
  "signature": "sha256:3c58d82779ee0caa6f8427bafa780798ccf115f11e03d15722df275a934bcaf8"
 },
 "nbformat": 3,
 "nbformat_minor": 0,
 "worksheets": [
  {
   "cells": [
    {
     "cell_type": "markdown",
     "metadata": {},
     "source": [
      "#Cotizador de Inmuebles (Properati Data)"
     ]
    },
    {
     "cell_type": "markdown",
     "metadata": {},
     "source": [
      "###Cargo librer\u00edas"
     ]
    },
    {
     "cell_type": "code",
     "collapsed": false,
     "input": [
      "%matplotlib inline \n",
      "\n",
      "from IPython.display import Image\n",
      "import matplotlib as mlp\n",
      "import matplotlib.pyplot as plt\n",
      "import numpy as np\n",
      "import os\n",
      "import pandas as pd\n",
      "import sklearn\n",
      "from sklearn import cross_validation\n",
      "from sklearn import tree\n",
      "from sklearn import svm\n",
      "from sklearn import ensemble\n",
      "from sklearn import neighbors\n",
      "from sklearn import linear_model\n",
      "from sklearn import metrics\n",
      "from sklearn import preprocessing\n",
      "import geopy as gp\n",
      "import seaborn as sns"
     ],
     "language": "python",
     "metadata": {},
     "outputs": [],
     "prompt_number": 5
    },
    {
     "cell_type": "markdown",
     "metadata": {},
     "source": [
      "###Cargo el dataset"
     ]
    },
    {
     "cell_type": "code",
     "collapsed": false,
     "input": [
      "os.chdir('D://regresion')\n",
      "infile = \"properati-AR-2015-02-01-properties-sell.csv\"\n",
      "dataset = pd.read_csv(infile,header=0)\n",
      "plt.style.use('fivethirtyeight') # Good looking plots\n",
      "pd.set_option('display.max_columns', None) # Display any number of columns\n",
      "dataset.head(10)"
     ],
     "language": "python",
     "metadata": {},
     "outputs": [
      {
       "html": [
        "<div style=\"max-height:1000px;max-width:1500px;overflow:auto;\">\n",
        "<table border=\"1\" class=\"dataframe\">\n",
        "  <thead>\n",
        "    <tr style=\"text-align: right;\">\n",
        "      <th></th>\n",
        "      <th>created_on</th>\n",
        "      <th>operation</th>\n",
        "      <th>property_type</th>\n",
        "      <th>place_name</th>\n",
        "      <th>place_with_parent_names</th>\n",
        "      <th>geonames_id</th>\n",
        "      <th>lat-lon</th>\n",
        "      <th>lat</th>\n",
        "      <th>lon</th>\n",
        "      <th>price</th>\n",
        "      <th>currency</th>\n",
        "      <th>price_aprox_local_currency</th>\n",
        "      <th>price_aprox_usd</th>\n",
        "      <th>surface_in_m2</th>\n",
        "      <th>price_usd_per_m2</th>\n",
        "      <th>floor</th>\n",
        "      <th>rooms</th>\n",
        "      <th>expenses</th>\n",
        "      <th>properati_url</th>\n",
        "      <th>image_thumbnail</th>\n",
        "    </tr>\n",
        "  </thead>\n",
        "  <tbody>\n",
        "    <tr>\n",
        "      <th>0</th>\n",
        "      <td> 2012-08-08</td>\n",
        "      <td> sell</td>\n",
        "      <td>     house</td>\n",
        "      <td>      Villa Ballester</td>\n",
        "      <td> |Argentina|Bs.As. G.B.A. Zona Norte|General Sa...</td>\n",
        "      <td> 3427467</td>\n",
        "      <td>                   NaN</td>\n",
        "      <td>       NaN</td>\n",
        "      <td>       NaN</td>\n",
        "      <td>    NaN</td>\n",
        "      <td> NaN</td>\n",
        "      <td>        NaN</td>\n",
        "      <td>    NaN</td>\n",
        "      <td> 220</td>\n",
        "      <td>         NaN</td>\n",
        "      <td>NaN</td>\n",
        "      <td>  4</td>\n",
        "      <td>NaN</td>\n",
        "      <td> http://www.properati.com.ar/ak_venta_casa_vill...</td>\n",
        "      <td> http://d1t4y5hzjn9jnl.cloudfront.net/GP0G5PgOx...</td>\n",
        "    </tr>\n",
        "    <tr>\n",
        "      <th>1</th>\n",
        "      <td> 2012-08-08</td>\n",
        "      <td> sell</td>\n",
        "      <td> apartment</td>\n",
        "      <td>   General San Mart\u00edn</td>\n",
        "      <td> |Argentina|Bs.As. G.B.A. Zona Norte|General Sa...</td>\n",
        "      <td> 3433778</td>\n",
        "      <td>                   NaN</td>\n",
        "      <td>       NaN</td>\n",
        "      <td>       NaN</td>\n",
        "      <td>    NaN</td>\n",
        "      <td> NaN</td>\n",
        "      <td>        NaN</td>\n",
        "      <td>    NaN</td>\n",
        "      <td> NaN</td>\n",
        "      <td>         NaN</td>\n",
        "      <td>NaN</td>\n",
        "      <td>  3</td>\n",
        "      <td>NaN</td>\n",
        "      <td> http://www.properati.com.ar/ao_venta_departame...</td>\n",
        "      <td> http://d1t4y5hzjn9jnl.cloudfront.net/pTD8O5N_X...</td>\n",
        "    </tr>\n",
        "    <tr>\n",
        "      <th>2</th>\n",
        "      <td> 2012-08-08</td>\n",
        "      <td> sell</td>\n",
        "      <td>     house</td>\n",
        "      <td>      Villa Ballester</td>\n",
        "      <td> |Argentina|Bs.As. G.B.A. Zona Norte|General Sa...</td>\n",
        "      <td> 3427467</td>\n",
        "      <td>                   NaN</td>\n",
        "      <td>       NaN</td>\n",
        "      <td>       NaN</td>\n",
        "      <td>    NaN</td>\n",
        "      <td> NaN</td>\n",
        "      <td>        NaN</td>\n",
        "      <td>    NaN</td>\n",
        "      <td> 273</td>\n",
        "      <td>         NaN</td>\n",
        "      <td>NaN</td>\n",
        "      <td>  4</td>\n",
        "      <td>NaN</td>\n",
        "      <td> http://www.properati.com.ar/aw_venta_casa_vill...</td>\n",
        "      <td> http://d1t4y5hzjn9jnl.cloudfront.net/fl10ghG3d...</td>\n",
        "    </tr>\n",
        "    <tr>\n",
        "      <th>3</th>\n",
        "      <td> 2012-08-08</td>\n",
        "      <td> sell</td>\n",
        "      <td>     house</td>\n",
        "      <td>      Villa Ballester</td>\n",
        "      <td> |Argentina|Bs.As. G.B.A. Zona Norte|General Sa...</td>\n",
        "      <td> 3427467</td>\n",
        "      <td>                   NaN</td>\n",
        "      <td>       NaN</td>\n",
        "      <td>       NaN</td>\n",
        "      <td>    NaN</td>\n",
        "      <td> NaN</td>\n",
        "      <td>        NaN</td>\n",
        "      <td>    NaN</td>\n",
        "      <td> 480</td>\n",
        "      <td>         NaN</td>\n",
        "      <td>NaN</td>\n",
        "      <td>  5</td>\n",
        "      <td>NaN</td>\n",
        "      <td> http://www.properati.com.ar/be_venta_casa_vill...</td>\n",
        "      <td> http://d1t4y5hzjn9jnl.cloudfront.net/f-1cqxLl8...</td>\n",
        "    </tr>\n",
        "    <tr>\n",
        "      <th>4</th>\n",
        "      <td> 2012-08-29</td>\n",
        "      <td> sell</td>\n",
        "      <td> apartment</td>\n",
        "      <td>         Constituci\u00f3n</td>\n",
        "      <td>          |Argentina|Capital Federal|Constituci\u00f3n|</td>\n",
        "      <td> 3435257</td>\n",
        "      <td> -34.628097,-58.390967</td>\n",
        "      <td>-34.628097</td>\n",
        "      <td>-58.390967</td>\n",
        "      <td>  69000</td>\n",
        "      <td> USD</td>\n",
        "      <td>  595759.80</td>\n",
        "      <td>  69000</td>\n",
        "      <td>  36</td>\n",
        "      <td> 1916.666667</td>\n",
        "      <td>NaN</td>\n",
        "      <td>  1</td>\n",
        "      <td>NaN</td>\n",
        "      <td> http://www.properati.com.ar/dny_venta_departam...</td>\n",
        "      <td> http://d1t4y5hzjn9jnl.cloudfront.net/1L7lsPTmu...</td>\n",
        "    </tr>\n",
        "    <tr>\n",
        "      <th>5</th>\n",
        "      <td> 2012-08-29</td>\n",
        "      <td> sell</td>\n",
        "      <td> apartment</td>\n",
        "      <td>         Constituci\u00f3n</td>\n",
        "      <td>          |Argentina|Capital Federal|Constituci\u00f3n|</td>\n",
        "      <td> 3435257</td>\n",
        "      <td> -34.628097,-58.390967</td>\n",
        "      <td>-34.628097</td>\n",
        "      <td>-58.390967</td>\n",
        "      <td>  61200</td>\n",
        "      <td> USD</td>\n",
        "      <td>  528413.04</td>\n",
        "      <td>  61200</td>\n",
        "      <td>  36</td>\n",
        "      <td> 1700.000000</td>\n",
        "      <td>NaN</td>\n",
        "      <td>  1</td>\n",
        "      <td>NaN</td>\n",
        "      <td> http://www.properati.com.ar/do0_venta_departam...</td>\n",
        "      <td> http://d1t4y5hzjn9jnl.cloudfront.net/3d6y5krBT...</td>\n",
        "    </tr>\n",
        "    <tr>\n",
        "      <th>6</th>\n",
        "      <td> 2012-09-19</td>\n",
        "      <td> sell</td>\n",
        "      <td>     house</td>\n",
        "      <td> San Antonio De Padua</td>\n",
        "      <td> |Argentina|Bs.As. G.B.A. Zona Oeste|Merlo|San ...</td>\n",
        "      <td> 3429244</td>\n",
        "      <td>                   NaN</td>\n",
        "      <td>       NaN</td>\n",
        "      <td>       NaN</td>\n",
        "      <td> 120000</td>\n",
        "      <td> USD</td>\n",
        "      <td> 1036104.00</td>\n",
        "      <td> 120000</td>\n",
        "      <td> 333</td>\n",
        "      <td>  360.360360</td>\n",
        "      <td>NaN</td>\n",
        "      <td>NaN</td>\n",
        "      <td>NaN</td>\n",
        "      <td> http://www.properati.com.ar/udh_venta_casa_mer...</td>\n",
        "      <td> http://d1t4y5hzjn9jnl.cloudfront.net/eG4H2yo7Q...</td>\n",
        "    </tr>\n",
        "    <tr>\n",
        "      <th>7</th>\n",
        "      <td> 2012-09-28</td>\n",
        "      <td> sell</td>\n",
        "      <td> apartment</td>\n",
        "      <td>              Palermo</td>\n",
        "      <td>               |Argentina|Capital Federal|Palermo|</td>\n",
        "      <td> 3430234</td>\n",
        "      <td> -34.574575,-58.421667</td>\n",
        "      <td>-34.574575</td>\n",
        "      <td>-58.421667</td>\n",
        "      <td> 160000</td>\n",
        "      <td> USD</td>\n",
        "      <td> 1381472.00</td>\n",
        "      <td> 160000</td>\n",
        "      <td>  50</td>\n",
        "      <td> 3200.000000</td>\n",
        "      <td>NaN</td>\n",
        "      <td>  2</td>\n",
        "      <td>NaN</td>\n",
        "      <td> http://www.properati.com.ar/wjj_venta_departam...</td>\n",
        "      <td> http://d1t4y5hzjn9jnl.cloudfront.net/NpVXGyi_p...</td>\n",
        "    </tr>\n",
        "    <tr>\n",
        "      <th>8</th>\n",
        "      <td> 2012-10-03</td>\n",
        "      <td> sell</td>\n",
        "      <td> apartment</td>\n",
        "      <td>               Retiro</td>\n",
        "      <td>                |Argentina|Capital Federal|Retiro|</td>\n",
        "      <td> 3429576</td>\n",
        "      <td> -34.594682,-58.377005</td>\n",
        "      <td>-34.594682</td>\n",
        "      <td>-58.377005</td>\n",
        "      <td>    NaN</td>\n",
        "      <td> NaN</td>\n",
        "      <td>        NaN</td>\n",
        "      <td>    NaN</td>\n",
        "      <td> 290</td>\n",
        "      <td>         NaN</td>\n",
        "      <td>  3</td>\n",
        "      <td>  5</td>\n",
        "      <td>NaN</td>\n",
        "      <td> http://www.properati.com.ar/zq9_venta_departam...</td>\n",
        "      <td> http://d1t4y5hzjn9jnl.cloudfront.net/jLG35H0Fw...</td>\n",
        "    </tr>\n",
        "    <tr>\n",
        "      <th>9</th>\n",
        "      <td> 2012-10-04</td>\n",
        "      <td> sell</td>\n",
        "      <td>     house</td>\n",
        "      <td>        Villa Udaondo</td>\n",
        "      <td> |Argentina|Bs.As. G.B.A. Zona Oeste|Ituzaing\u00f3|...</td>\n",
        "      <td> 3433359</td>\n",
        "      <td>                   NaN</td>\n",
        "      <td>       NaN</td>\n",
        "      <td>       NaN</td>\n",
        "      <td> 135000</td>\n",
        "      <td> USD</td>\n",
        "      <td> 1165617.00</td>\n",
        "      <td> 135000</td>\n",
        "      <td> 120</td>\n",
        "      <td> 1125.000000</td>\n",
        "      <td>NaN</td>\n",
        "      <td>NaN</td>\n",
        "      <td>NaN</td>\n",
        "      <td> http://www.properati.com.ar/zvi_venta_casa_itu...</td>\n",
        "      <td> http://d1t4y5hzjn9jnl.cloudfront.net/kBK90i1Dy...</td>\n",
        "    </tr>\n",
        "  </tbody>\n",
        "</table>\n",
        "</div>"
       ],
       "metadata": {},
       "output_type": "pyout",
       "prompt_number": 128,
       "text": [
        "   created_on operation property_type            place_name  \\\n",
        "0  2012-08-08      sell         house       Villa Ballester   \n",
        "1  2012-08-08      sell     apartment    General San Mart\u00edn   \n",
        "2  2012-08-08      sell         house       Villa Ballester   \n",
        "3  2012-08-08      sell         house       Villa Ballester   \n",
        "4  2012-08-29      sell     apartment          Constituci\u00f3n   \n",
        "5  2012-08-29      sell     apartment          Constituci\u00f3n   \n",
        "6  2012-09-19      sell         house  San Antonio De Padua   \n",
        "7  2012-09-28      sell     apartment               Palermo   \n",
        "8  2012-10-03      sell     apartment                Retiro   \n",
        "9  2012-10-04      sell         house         Villa Udaondo   \n",
        "\n",
        "                             place_with_parent_names  geonames_id  \\\n",
        "0  |Argentina|Bs.As. G.B.A. Zona Norte|General Sa...      3427467   \n",
        "1  |Argentina|Bs.As. G.B.A. Zona Norte|General Sa...      3433778   \n",
        "2  |Argentina|Bs.As. G.B.A. Zona Norte|General Sa...      3427467   \n",
        "3  |Argentina|Bs.As. G.B.A. Zona Norte|General Sa...      3427467   \n",
        "4           |Argentina|Capital Federal|Constituci\u00f3n|      3435257   \n",
        "5           |Argentina|Capital Federal|Constituci\u00f3n|      3435257   \n",
        "6  |Argentina|Bs.As. G.B.A. Zona Oeste|Merlo|San ...      3429244   \n",
        "7                |Argentina|Capital Federal|Palermo|      3430234   \n",
        "8                 |Argentina|Capital Federal|Retiro|      3429576   \n",
        "9  |Argentina|Bs.As. G.B.A. Zona Oeste|Ituzaing\u00f3|...      3433359   \n",
        "\n",
        "                 lat-lon        lat        lon   price currency  \\\n",
        "0                    NaN        NaN        NaN     NaN      NaN   \n",
        "1                    NaN        NaN        NaN     NaN      NaN   \n",
        "2                    NaN        NaN        NaN     NaN      NaN   \n",
        "3                    NaN        NaN        NaN     NaN      NaN   \n",
        "4  -34.628097,-58.390967 -34.628097 -58.390967   69000      USD   \n",
        "5  -34.628097,-58.390967 -34.628097 -58.390967   61200      USD   \n",
        "6                    NaN        NaN        NaN  120000      USD   \n",
        "7  -34.574575,-58.421667 -34.574575 -58.421667  160000      USD   \n",
        "8  -34.594682,-58.377005 -34.594682 -58.377005     NaN      NaN   \n",
        "9                    NaN        NaN        NaN  135000      USD   \n",
        "\n",
        "   price_aprox_local_currency  price_aprox_usd  surface_in_m2  \\\n",
        "0                         NaN              NaN            220   \n",
        "1                         NaN              NaN            NaN   \n",
        "2                         NaN              NaN            273   \n",
        "3                         NaN              NaN            480   \n",
        "4                   595759.80            69000             36   \n",
        "5                   528413.04            61200             36   \n",
        "6                  1036104.00           120000            333   \n",
        "7                  1381472.00           160000             50   \n",
        "8                         NaN              NaN            290   \n",
        "9                  1165617.00           135000            120   \n",
        "\n",
        "   price_usd_per_m2  floor  rooms  expenses  \\\n",
        "0               NaN    NaN      4       NaN   \n",
        "1               NaN    NaN      3       NaN   \n",
        "2               NaN    NaN      4       NaN   \n",
        "3               NaN    NaN      5       NaN   \n",
        "4       1916.666667    NaN      1       NaN   \n",
        "5       1700.000000    NaN      1       NaN   \n",
        "6        360.360360    NaN    NaN       NaN   \n",
        "7       3200.000000    NaN      2       NaN   \n",
        "8               NaN      3      5       NaN   \n",
        "9       1125.000000    NaN    NaN       NaN   \n",
        "\n",
        "                                       properati_url  \\\n",
        "0  http://www.properati.com.ar/ak_venta_casa_vill...   \n",
        "1  http://www.properati.com.ar/ao_venta_departame...   \n",
        "2  http://www.properati.com.ar/aw_venta_casa_vill...   \n",
        "3  http://www.properati.com.ar/be_venta_casa_vill...   \n",
        "4  http://www.properati.com.ar/dny_venta_departam...   \n",
        "5  http://www.properati.com.ar/do0_venta_departam...   \n",
        "6  http://www.properati.com.ar/udh_venta_casa_mer...   \n",
        "7  http://www.properati.com.ar/wjj_venta_departam...   \n",
        "8  http://www.properati.com.ar/zq9_venta_departam...   \n",
        "9  http://www.properati.com.ar/zvi_venta_casa_itu...   \n",
        "\n",
        "                                     image_thumbnail  \n",
        "0  http://d1t4y5hzjn9jnl.cloudfront.net/GP0G5PgOx...  \n",
        "1  http://d1t4y5hzjn9jnl.cloudfront.net/pTD8O5N_X...  \n",
        "2  http://d1t4y5hzjn9jnl.cloudfront.net/fl10ghG3d...  \n",
        "3  http://d1t4y5hzjn9jnl.cloudfront.net/f-1cqxLl8...  \n",
        "4  http://d1t4y5hzjn9jnl.cloudfront.net/1L7lsPTmu...  \n",
        "5  http://d1t4y5hzjn9jnl.cloudfront.net/3d6y5krBT...  \n",
        "6  http://d1t4y5hzjn9jnl.cloudfront.net/eG4H2yo7Q...  \n",
        "7  http://d1t4y5hzjn9jnl.cloudfront.net/NpVXGyi_p...  \n",
        "8  http://d1t4y5hzjn9jnl.cloudfront.net/jLG35H0Fw...  \n",
        "9  http://d1t4y5hzjn9jnl.cloudfront.net/kBK90i1Dy...  "
       ]
      }
     ],
     "prompt_number": 128
    },
    {
     "cell_type": "markdown",
     "metadata": {},
     "source": [
      "### Parseo la ciudad"
     ]
    },
    {
     "cell_type": "code",
     "collapsed": false,
     "input": [
      "ciudad=pd.Series(pd.DataFrame(dataset.place_with_parent_names.apply(lambda x: pd.Series(x.split('|')))).iloc[:,2], name='ciudad')\n",
      "dataset=pd.concat([dataset, ciudad], axis=1)\n",
      "###### Me quedo solo con CABA\n",
      "dataset_short=dataset[dataset.ciudad=='Capital Federal'][['lat', 'lon','price','price_aprox_usd','surface_in_m2', 'floor','rooms']]\n",
      "dataset_short=dataset_short.dropna()"
     ],
     "language": "python",
     "metadata": {},
     "outputs": [
      {
       "ename": "ValueError",
       "evalue": "cannot reindex from a duplicate axis",
       "output_type": "pyerr",
       "traceback": [
        "\u001b[1;31m---------------------------------------------------------------------------\u001b[0m\n\u001b[1;31mValueError\u001b[0m                                Traceback (most recent call last)",
        "\u001b[1;32m<ipython-input-141-e28e543b82d0>\u001b[0m in \u001b[0;36m<module>\u001b[1;34m()\u001b[0m\n\u001b[0;32m      2\u001b[0m \u001b[0mdataset\u001b[0m\u001b[1;33m=\u001b[0m\u001b[0mpd\u001b[0m\u001b[1;33m.\u001b[0m\u001b[0mconcat\u001b[0m\u001b[1;33m(\u001b[0m\u001b[1;33m[\u001b[0m\u001b[0mdataset\u001b[0m\u001b[1;33m,\u001b[0m \u001b[0mciudad\u001b[0m\u001b[1;33m]\u001b[0m\u001b[1;33m,\u001b[0m \u001b[0maxis\u001b[0m\u001b[1;33m=\u001b[0m\u001b[1;36m1\u001b[0m\u001b[1;33m)\u001b[0m\u001b[1;33m\u001b[0m\u001b[0m\n\u001b[0;32m      3\u001b[0m \u001b[1;31m###### Me quedo solo con CABA\u001b[0m\u001b[1;33m\u001b[0m\u001b[1;33m\u001b[0m\u001b[0m\n\u001b[1;32m----> 4\u001b[1;33m \u001b[0mdataset_short\u001b[0m\u001b[1;33m=\u001b[0m\u001b[0mdataset\u001b[0m\u001b[1;33m[\u001b[0m\u001b[0mdataset\u001b[0m\u001b[1;33m.\u001b[0m\u001b[0mciudad\u001b[0m\u001b[1;33m==\u001b[0m\u001b[1;34m'Capital Federal'\u001b[0m\u001b[1;33m]\u001b[0m\u001b[1;33m[\u001b[0m\u001b[1;33m[\u001b[0m\u001b[1;34m'lat'\u001b[0m\u001b[1;33m,\u001b[0m \u001b[1;34m'lon'\u001b[0m\u001b[1;33m,\u001b[0m\u001b[1;34m'price'\u001b[0m\u001b[1;33m,\u001b[0m\u001b[1;34m'price_aprox_usd'\u001b[0m\u001b[1;33m,\u001b[0m\u001b[1;34m'surface_in_m2'\u001b[0m\u001b[1;33m,\u001b[0m \u001b[1;34m'floor'\u001b[0m\u001b[1;33m,\u001b[0m\u001b[1;34m'rooms'\u001b[0m\u001b[1;33m]\u001b[0m\u001b[1;33m]\u001b[0m\u001b[1;33m\u001b[0m\u001b[0m\n\u001b[0m\u001b[0;32m      5\u001b[0m \u001b[0mdataset_short\u001b[0m\u001b[1;33m=\u001b[0m\u001b[0mdataset_short\u001b[0m\u001b[1;33m.\u001b[0m\u001b[0mdropna\u001b[0m\u001b[1;33m(\u001b[0m\u001b[1;33m)\u001b[0m\u001b[1;33m\u001b[0m\u001b[0m\n",
        "\u001b[1;32mC:\\Python27\\lib\\site-packages\\pandas\\core\\frame.pyc\u001b[0m in \u001b[0;36m__getitem__\u001b[1;34m(self, key)\u001b[0m\n\u001b[0;32m   1737\u001b[0m             \u001b[1;32mreturn\u001b[0m \u001b[0mself\u001b[0m\u001b[1;33m.\u001b[0m\u001b[0m_getitem_array\u001b[0m\u001b[1;33m(\u001b[0m\u001b[0mkey\u001b[0m\u001b[1;33m)\u001b[0m\u001b[1;33m\u001b[0m\u001b[0m\n\u001b[0;32m   1738\u001b[0m         \u001b[1;32melif\u001b[0m \u001b[0misinstance\u001b[0m\u001b[1;33m(\u001b[0m\u001b[0mkey\u001b[0m\u001b[1;33m,\u001b[0m \u001b[0mDataFrame\u001b[0m\u001b[1;33m)\u001b[0m\u001b[1;33m:\u001b[0m\u001b[1;33m\u001b[0m\u001b[0m\n\u001b[1;32m-> 1739\u001b[1;33m             \u001b[1;32mreturn\u001b[0m \u001b[0mself\u001b[0m\u001b[1;33m.\u001b[0m\u001b[0m_getitem_frame\u001b[0m\u001b[1;33m(\u001b[0m\u001b[0mkey\u001b[0m\u001b[1;33m)\u001b[0m\u001b[1;33m\u001b[0m\u001b[0m\n\u001b[0m\u001b[0;32m   1740\u001b[0m         \u001b[1;32melif\u001b[0m \u001b[0mis_mi_columns\u001b[0m\u001b[1;33m:\u001b[0m\u001b[1;33m\u001b[0m\u001b[0m\n\u001b[0;32m   1741\u001b[0m             \u001b[1;32mreturn\u001b[0m \u001b[0mself\u001b[0m\u001b[1;33m.\u001b[0m\u001b[0m_getitem_multilevel\u001b[0m\u001b[1;33m(\u001b[0m\u001b[0mkey\u001b[0m\u001b[1;33m)\u001b[0m\u001b[1;33m\u001b[0m\u001b[0m\n",
        "\u001b[1;32mC:\\Python27\\lib\\site-packages\\pandas\\core\\frame.pyc\u001b[0m in \u001b[0;36m_getitem_frame\u001b[1;34m(self, key)\u001b[0m\n\u001b[0;32m   1810\u001b[0m         \u001b[1;32mif\u001b[0m \u001b[0mkey\u001b[0m\u001b[1;33m.\u001b[0m\u001b[0mvalues\u001b[0m\u001b[1;33m.\u001b[0m\u001b[0mdtype\u001b[0m \u001b[1;33m!=\u001b[0m \u001b[0mnp\u001b[0m\u001b[1;33m.\u001b[0m\u001b[0mbool_\u001b[0m\u001b[1;33m:\u001b[0m\u001b[1;33m\u001b[0m\u001b[0m\n\u001b[0;32m   1811\u001b[0m             \u001b[1;32mraise\u001b[0m \u001b[0mValueError\u001b[0m\u001b[1;33m(\u001b[0m\u001b[1;34m'Must pass DataFrame with boolean values only'\u001b[0m\u001b[1;33m)\u001b[0m\u001b[1;33m\u001b[0m\u001b[0m\n\u001b[1;32m-> 1812\u001b[1;33m         \u001b[1;32mreturn\u001b[0m \u001b[0mself\u001b[0m\u001b[1;33m.\u001b[0m\u001b[0mwhere\u001b[0m\u001b[1;33m(\u001b[0m\u001b[0mkey\u001b[0m\u001b[1;33m)\u001b[0m\u001b[1;33m\u001b[0m\u001b[0m\n\u001b[0m\u001b[0;32m   1813\u001b[0m \u001b[1;33m\u001b[0m\u001b[0m\n\u001b[0;32m   1814\u001b[0m     \u001b[1;32mdef\u001b[0m \u001b[0mquery\u001b[0m\u001b[1;33m(\u001b[0m\u001b[0mself\u001b[0m\u001b[1;33m,\u001b[0m \u001b[0mexpr\u001b[0m\u001b[1;33m,\u001b[0m \u001b[1;33m**\u001b[0m\u001b[0mkwargs\u001b[0m\u001b[1;33m)\u001b[0m\u001b[1;33m:\u001b[0m\u001b[1;33m\u001b[0m\u001b[0m\n",
        "\u001b[1;32mC:\\Python27\\lib\\site-packages\\pandas\\core\\generic.pyc\u001b[0m in \u001b[0;36mwhere\u001b[1;34m(self, cond, other, inplace, axis, level, try_cast, raise_on_error)\u001b[0m\n\u001b[0;32m   3229\u001b[0m         \"\"\"\n\u001b[0;32m   3230\u001b[0m         \u001b[1;32mif\u001b[0m \u001b[0misinstance\u001b[0m\u001b[1;33m(\u001b[0m\u001b[0mcond\u001b[0m\u001b[1;33m,\u001b[0m \u001b[0mNDFrame\u001b[0m\u001b[1;33m)\u001b[0m\u001b[1;33m:\u001b[0m\u001b[1;33m\u001b[0m\u001b[0m\n\u001b[1;32m-> 3231\u001b[1;33m             \u001b[0mcond\u001b[0m \u001b[1;33m=\u001b[0m \u001b[0mcond\u001b[0m\u001b[1;33m.\u001b[0m\u001b[0mreindex\u001b[0m\u001b[1;33m(\u001b[0m\u001b[1;33m**\u001b[0m\u001b[0mself\u001b[0m\u001b[1;33m.\u001b[0m\u001b[0m_construct_axes_dict\u001b[0m\u001b[1;33m(\u001b[0m\u001b[1;33m)\u001b[0m\u001b[1;33m)\u001b[0m\u001b[1;33m\u001b[0m\u001b[0m\n\u001b[0m\u001b[0;32m   3232\u001b[0m         \u001b[1;32melse\u001b[0m\u001b[1;33m:\u001b[0m\u001b[1;33m\u001b[0m\u001b[0m\n\u001b[0;32m   3233\u001b[0m             \u001b[1;32mif\u001b[0m \u001b[1;32mnot\u001b[0m \u001b[0mhasattr\u001b[0m\u001b[1;33m(\u001b[0m\u001b[0mcond\u001b[0m\u001b[1;33m,\u001b[0m \u001b[1;34m'shape'\u001b[0m\u001b[1;33m)\u001b[0m\u001b[1;33m:\u001b[0m\u001b[1;33m\u001b[0m\u001b[0m\n",
        "\u001b[1;32mC:\\Python27\\lib\\site-packages\\pandas\\core\\frame.pyc\u001b[0m in \u001b[0;36mreindex\u001b[1;34m(self, index, columns, **kwargs)\u001b[0m\n\u001b[0;32m   2365\u001b[0m     \u001b[1;32mdef\u001b[0m \u001b[0mreindex\u001b[0m\u001b[1;33m(\u001b[0m\u001b[0mself\u001b[0m\u001b[1;33m,\u001b[0m \u001b[0mindex\u001b[0m\u001b[1;33m=\u001b[0m\u001b[0mNone\u001b[0m\u001b[1;33m,\u001b[0m \u001b[0mcolumns\u001b[0m\u001b[1;33m=\u001b[0m\u001b[0mNone\u001b[0m\u001b[1;33m,\u001b[0m \u001b[1;33m**\u001b[0m\u001b[0mkwargs\u001b[0m\u001b[1;33m)\u001b[0m\u001b[1;33m:\u001b[0m\u001b[1;33m\u001b[0m\u001b[0m\n\u001b[0;32m   2366\u001b[0m         return super(DataFrame, self).reindex(index=index, columns=columns,\n\u001b[1;32m-> 2367\u001b[1;33m                                               **kwargs)\n\u001b[0m\u001b[0;32m   2368\u001b[0m \u001b[1;33m\u001b[0m\u001b[0m\n\u001b[0;32m   2369\u001b[0m     \u001b[1;33m@\u001b[0m\u001b[0mAppender\u001b[0m\u001b[1;33m(\u001b[0m\u001b[0m_shared_docs\u001b[0m\u001b[1;33m[\u001b[0m\u001b[1;34m'reindex_axis'\u001b[0m\u001b[1;33m]\u001b[0m \u001b[1;33m%\u001b[0m \u001b[0m_shared_doc_kwargs\u001b[0m\u001b[1;33m)\u001b[0m\u001b[1;33m\u001b[0m\u001b[0m\n",
        "\u001b[1;32mC:\\Python27\\lib\\site-packages\\pandas\\core\\generic.pyc\u001b[0m in \u001b[0;36mreindex\u001b[1;34m(self, *args, **kwargs)\u001b[0m\n\u001b[0;32m   1719\u001b[0m         \u001b[1;31m# perform the reindex on the axes\u001b[0m\u001b[1;33m\u001b[0m\u001b[1;33m\u001b[0m\u001b[0m\n\u001b[0;32m   1720\u001b[0m         return self._reindex_axes(axes, level, limit,\n\u001b[1;32m-> 1721\u001b[1;33m                                   method, fill_value, copy).__finalize__(self)\n\u001b[0m\u001b[0;32m   1722\u001b[0m \u001b[1;33m\u001b[0m\u001b[0m\n\u001b[0;32m   1723\u001b[0m     \u001b[1;32mdef\u001b[0m \u001b[0m_reindex_axes\u001b[0m\u001b[1;33m(\u001b[0m\u001b[0mself\u001b[0m\u001b[1;33m,\u001b[0m \u001b[0maxes\u001b[0m\u001b[1;33m,\u001b[0m \u001b[0mlevel\u001b[0m\u001b[1;33m,\u001b[0m \u001b[0mlimit\u001b[0m\u001b[1;33m,\u001b[0m \u001b[0mmethod\u001b[0m\u001b[1;33m,\u001b[0m \u001b[0mfill_value\u001b[0m\u001b[1;33m,\u001b[0m \u001b[0mcopy\u001b[0m\u001b[1;33m)\u001b[0m\u001b[1;33m:\u001b[0m\u001b[1;33m\u001b[0m\u001b[0m\n",
        "\u001b[1;32mC:\\Python27\\lib\\site-packages\\pandas\\core\\frame.pyc\u001b[0m in \u001b[0;36m_reindex_axes\u001b[1;34m(self, axes, level, limit, method, fill_value, copy)\u001b[0m\n\u001b[0;32m   2319\u001b[0m         \u001b[1;32mif\u001b[0m \u001b[0mcolumns\u001b[0m \u001b[1;32mis\u001b[0m \u001b[1;32mnot\u001b[0m \u001b[0mNone\u001b[0m\u001b[1;33m:\u001b[0m\u001b[1;33m\u001b[0m\u001b[0m\n\u001b[0;32m   2320\u001b[0m             frame = frame._reindex_columns(columns, copy, level, fill_value,\n\u001b[1;32m-> 2321\u001b[1;33m                                            limit)\n\u001b[0m\u001b[0;32m   2322\u001b[0m \u001b[1;33m\u001b[0m\u001b[0m\n\u001b[0;32m   2323\u001b[0m         \u001b[0mindex\u001b[0m \u001b[1;33m=\u001b[0m \u001b[0maxes\u001b[0m\u001b[1;33m[\u001b[0m\u001b[1;34m'index'\u001b[0m\u001b[1;33m]\u001b[0m\u001b[1;33m\u001b[0m\u001b[0m\n",
        "\u001b[1;32mC:\\Python27\\lib\\site-packages\\pandas\\core\\frame.pyc\u001b[0m in \u001b[0;36m_reindex_columns\u001b[1;34m(self, new_columns, copy, level, fill_value, limit)\u001b[0m\n\u001b[0;32m   2342\u001b[0m         return self._reindex_with_indexers({1: [new_columns, indexer]},\n\u001b[0;32m   2343\u001b[0m                                            \u001b[0mcopy\u001b[0m\u001b[1;33m=\u001b[0m\u001b[0mcopy\u001b[0m\u001b[1;33m,\u001b[0m \u001b[0mfill_value\u001b[0m\u001b[1;33m=\u001b[0m\u001b[0mfill_value\u001b[0m\u001b[1;33m,\u001b[0m\u001b[1;33m\u001b[0m\u001b[0m\n\u001b[1;32m-> 2344\u001b[1;33m                                            allow_dups=False)\n\u001b[0m\u001b[0;32m   2345\u001b[0m \u001b[1;33m\u001b[0m\u001b[0m\n\u001b[0;32m   2346\u001b[0m     \u001b[1;32mdef\u001b[0m \u001b[0m_reindex_multi\u001b[0m\u001b[1;33m(\u001b[0m\u001b[0mself\u001b[0m\u001b[1;33m,\u001b[0m \u001b[0maxes\u001b[0m\u001b[1;33m,\u001b[0m \u001b[0mcopy\u001b[0m\u001b[1;33m,\u001b[0m \u001b[0mfill_value\u001b[0m\u001b[1;33m)\u001b[0m\u001b[1;33m:\u001b[0m\u001b[1;33m\u001b[0m\u001b[0m\n",
        "\u001b[1;32mC:\\Python27\\lib\\site-packages\\pandas\\core\\generic.pyc\u001b[0m in \u001b[0;36m_reindex_with_indexers\u001b[1;34m(self, reindexers, method, fill_value, limit, copy, allow_dups)\u001b[0m\n\u001b[0;32m   1822\u001b[0m                                                 \u001b[0mfill_value\u001b[0m\u001b[1;33m=\u001b[0m\u001b[0mfill_value\u001b[0m\u001b[1;33m,\u001b[0m\u001b[1;33m\u001b[0m\u001b[0m\n\u001b[0;32m   1823\u001b[0m                                                 \u001b[0mallow_dups\u001b[0m\u001b[1;33m=\u001b[0m\u001b[0mallow_dups\u001b[0m\u001b[1;33m,\u001b[0m\u001b[1;33m\u001b[0m\u001b[0m\n\u001b[1;32m-> 1824\u001b[1;33m                                                 copy=copy)\n\u001b[0m\u001b[0;32m   1825\u001b[0m \u001b[1;33m\u001b[0m\u001b[0m\n\u001b[0;32m   1826\u001b[0m         \u001b[1;32mif\u001b[0m \u001b[0mcopy\u001b[0m \u001b[1;32mand\u001b[0m \u001b[0mnew_data\u001b[0m \u001b[1;32mis\u001b[0m \u001b[0mself\u001b[0m\u001b[1;33m.\u001b[0m\u001b[0m_data\u001b[0m\u001b[1;33m:\u001b[0m\u001b[1;33m\u001b[0m\u001b[0m\n",
        "\u001b[1;32mC:\\Python27\\lib\\site-packages\\pandas\\core\\internals.pyc\u001b[0m in \u001b[0;36mreindex_indexer\u001b[1;34m(self, new_axis, indexer, axis, fill_value, allow_dups, copy)\u001b[0m\n\u001b[0;32m   3105\u001b[0m         if (not allow_dups and not self.axes[axis].is_unique\n\u001b[0;32m   3106\u001b[0m             and len(indexer)):\n\u001b[1;32m-> 3107\u001b[1;33m             \u001b[1;32mraise\u001b[0m \u001b[0mValueError\u001b[0m\u001b[1;33m(\u001b[0m\u001b[1;34m\"cannot reindex from a duplicate axis\"\u001b[0m\u001b[1;33m)\u001b[0m\u001b[1;33m\u001b[0m\u001b[0m\n\u001b[0m\u001b[0;32m   3108\u001b[0m \u001b[1;33m\u001b[0m\u001b[0m\n\u001b[0;32m   3109\u001b[0m         \u001b[1;32mif\u001b[0m \u001b[0maxis\u001b[0m \u001b[1;33m>=\u001b[0m \u001b[0mself\u001b[0m\u001b[1;33m.\u001b[0m\u001b[0mndim\u001b[0m\u001b[1;33m:\u001b[0m\u001b[1;33m\u001b[0m\u001b[0m\n",
        "\u001b[1;31mValueError\u001b[0m: cannot reindex from a duplicate axis"
       ]
      }
     ],
     "prompt_number": 141
    },
    {
     "cell_type": "markdown",
     "metadata": {},
     "source": [
      "#An\u00e1lisis Gr\u00e1fico"
     ]
    },
    {
     "cell_type": "markdown",
     "metadata": {},
     "source": [
      "##Distribuci\u00f3n precios seg\u00fan cantidad de ambientes"
     ]
    },
    {
     "cell_type": "code",
     "collapsed": false,
     "input": [
      "plt.scatter(dataset_short.rooms, dataset_short.price_aprox_usd)"
     ],
     "language": "python",
     "metadata": {},
     "outputs": [
      {
       "metadata": {},
       "output_type": "pyout",
       "prompt_number": 132,
       "text": [
        "<matplotlib.collections.PathCollection at 0x1cf7adf0>"
       ]
      },
      {
       "metadata": {},
       "output_type": "display_data",
       "png": "[encoded data removed]",
       "text": [
        "<matplotlib.figure.Figure at 0x21911430>"
       ]
      }
     ],
     "prompt_number": 132
    },
    {
     "cell_type": "markdown",
     "metadata": {},
     "source": [
      "###Precio seg\u00fan ambientes (descriptivos)"
     ]
    },
    {
     "cell_type": "code",
     "collapsed": false,
     "input": [
      "dataset_short.groupby(['rooms']).describe().price_aprox_usd"
     ],
     "language": "python",
     "metadata": {},
     "outputs": [
      {
       "metadata": {},
       "output_type": "pyout",
       "prompt_number": 133,
       "text": [
        "rooms       \n",
        "1      count        614.000000\n",
        "       mean       94182.161678\n",
        "       std        54727.448790\n",
        "       min        10741.070000\n",
        "       25%        75000.000000\n",
        "       50%        87201.400000\n",
        "       75%       104000.000000\n",
        "       max       950000.000000\n",
        "2      count        573.000000\n",
        "       mean      122547.060000\n",
        "       std        98266.338838\n",
        "       min        50000.000000\n",
        "       25%        84000.000000\n",
        "       50%       105000.000000\n",
        "       75%       134500.000000\n",
        "       max      1408845.000000\n",
        "3      count        479.000000\n",
        "       mean      163413.812839\n",
        "       std       111153.139801\n",
        "       min        68000.000000\n",
        "       25%       111000.000000\n",
        "       50%       140000.000000\n",
        "       75%       178500.000000\n",
        "       max      1280000.000000\n",
        "4      count        233.000000\n",
        "       mean      260048.799356\n",
        "       std       157048.112619\n",
        "       min        59500.000000\n",
        "       25%       160000.000000\n",
        "       50%       220000.000000\n",
        "       75%       315000.000000\n",
        "       max      1200000.000000\n",
        "5      count         44.000000\n",
        "       mean      575852.272727\n",
        "       std       353065.159339\n",
        "       min       120000.000000\n",
        "       25%       337500.000000\n",
        "       50%       470000.000000\n",
        "       75%       890000.000000\n",
        "       max      1490000.000000\n",
        "6      count         14.000000\n",
        "       mean      677135.714286\n",
        "       std       348042.896576\n",
        "       min       154900.000000\n",
        "       25%       468750.000000\n",
        "       50%       685000.000000\n",
        "       75%       772500.000000\n",
        "       max      1300000.000000\n",
        "7      count          2.000000\n",
        "       mean      682500.000000\n",
        "       std       519723.484172\n",
        "       min       315000.000000\n",
        "       25%       498750.000000\n",
        "       50%       682500.000000\n",
        "       75%       866250.000000\n",
        "       max      1050000.000000\n",
        "Name: price_aprox_usd, Length: 56, dtype: float64"
       ]
      }
     ],
     "prompt_number": 133
    },
    {
     "cell_type": "markdown",
     "metadata": {},
     "source": [
      "##Cantidad de Inmuebles seg\u00fan cantidad de ambientes"
     ]
    },
    {
     "cell_type": "code",
     "collapsed": false,
     "input": [
      "x=dataset_short.dropna()[['rooms']]\n",
      "x.describe()\n",
      "plt.plot(x)"
     ],
     "language": "python",
     "metadata": {},
     "outputs": [
      {
       "metadata": {},
       "output_type": "pyout",
       "prompt_number": 135,
       "text": [
        "[<matplotlib.lines.Line2D at 0x1bcccf30>]"
       ]
      },
      {
       "metadata": {},
       "output_type": "display_data",
       "png": "[encoded data removed]",
       "text": [
        "<matplotlib.figure.Figure at 0x1f824bb0>"
       ]
      }
     ],
     "prompt_number": 135
    },
    {
     "cell_type": "markdown",
     "metadata": {},
     "source": [
      "#Nuevos feautures"
     ]
    },
    {
     "cell_type": "markdown",
     "metadata": {},
     "source": [
      "###Distances (fuerza bruta, mejorar con 'geopandas')"
     ]
    },
    {
     "cell_type": "code",
     "collapsed": false,
     "input": [
      "def min_dis(data,puntos): \n",
      "    b=[]\n",
      "    for i,row in data.T.iteritems():\n",
      "        a=[]\n",
      "        prop=data.ix[i].lat,data.ix[i].lon\n",
      "        for j,row in puntos.T.iteritems():\n",
      "            punto=puntos.ix[j].latitude,puntos.ix[j].longitude\n",
      "            a.append(vincenty(prop,punto).meters)\n",
      "        b.append(np.min(a))\n",
      "    return b"
     ],
     "language": "python",
     "metadata": {},
     "outputs": [],
     "prompt_number": 136
    },
    {
     "cell_type": "code",
     "collapsed": false,
     "input": [
      "from geopy.distance import vincenty\n",
      "subtes=pd.read_csv('estaciones.csv',sep=';', header=0)\n",
      "comisarias=pd.read_csv('comisarias-policia-federal.csv',sep=';', header=0)\n",
      "hospitales=pd.read_csv('hospitales.csv',sep=';', header=0)\n",
      "dataset_short['min_subte']=pd.DataFrame(min_dis(dataset_short, subtes))\n",
      "dataset_short['min_hospitales']=pd.DataFrame(min_dis(dataset_short, comisarias))\n",
      "dataset_short['min_comisarias']=pd.DataFrame(min_dis(dataset_short, hospitales))\n",
      "\n"
     ],
     "language": "python",
     "metadata": {},
     "outputs": [],
     "prompt_number": 137
    },
    {
     "cell_type": "markdown",
     "metadata": {},
     "source": [
      "###Get address (para confirmar barrio)"
     ]
    },
    {
     "cell_type": "code",
     "collapsed": false,
     "input": [
      "geolocator = gp.Nominatim()\n",
      "dataset_short['direccion'] = geolocator.reverse(dataset_short['lat'], dataset_short['lon'])"
     ],
     "language": "python",
     "metadata": {},
     "outputs": []
    },
    {
     "cell_type": "markdown",
     "metadata": {},
     "source": [
      "#Clasificador"
     ]
    },
    {
     "cell_type": "markdown",
     "metadata": {},
     "source": [
      "##Divido el dataset"
     ]
    },
    {
     "cell_type": "code",
     "collapsed": false,
     "input": [
      "X=dataset_short.drop(\"price_aprox_usd\", 1)\n",
      "y=dataset_short[\"price_aprox_usd\"]"
     ],
     "language": "python",
     "metadata": {},
     "outputs": [],
     "prompt_number": 142
    },
    {
     "cell_type": "code",
     "collapsed": false,
     "input": [
      "from sklearn import cross_validation\n",
      "X_train, X_test, y_train, y_test = cross_validation.train_test_split(X,\n",
      "                                                    y,\n",
      "                                                    test_size=0.2,\n",
      "                                                    random_state=0)"
     ],
     "language": "python",
     "metadata": {},
     "outputs": [],
     "prompt_number": 143
    },
    {
     "cell_type": "markdown",
     "metadata": {},
     "source": [
      "###GBR"
     ]
    },
    {
     "cell_type": "code",
     "collapsed": false,
     "input": [
      "from sklearn import cross_validation\n",
      "X_train, X_test, y_train, y_test = cross_validation.train_test_split(X.values,\n",
      "                                                    y.values,\n",
      "                                                    test_size=0.2,\n",
      "                                                    random_state=0)\n",
      "from sklearn import ensemble\n",
      "from sklearn import metrics\n",
      "parameters = {\n",
      "              'n_estimators': 2000, \n",
      "              'max_depth': 4, \n",
      "              'min_samples_split': 1,\n",
      "              'learning_rate': 0.01, \n",
      "              'loss': 'ls'\n",
      "             }\n",
      "classifier = ensemble.GradientBoostingRegressor(**parameters)\n",
      "\n",
      "classifier.fit(X_train, y_train)\n",
      "predictions = classifier.predict(X_test)\n",
      "mse = metrics.mean_squared_error(y_test, predictions)\n",
      "print('Mean Square Error: {:.3f}'.format(mse))"
     ],
     "language": "python",
     "metadata": {},
     "outputs": []
    },
    {
     "cell_type": "markdown",
     "metadata": {},
     "source": [
      "### LR"
     ]
    },
    {
     "cell_type": "code",
     "collapsed": false,
     "input": [
      "from sklearn import linear_model\n",
      "from sklearn.metrics import r2_score\n",
      "classifier = linear_model.LinearRegression()\n",
      "classifier.fit(X_train,y_train)\n",
      "y_pred = lassifier.predict(X_test)\n",
      "print r2_score(y_test, y_pred)"
     ],
     "language": "python",
     "metadata": {},
     "outputs": []
    }
   ],
   "metadata": {}
  }
 ]
}