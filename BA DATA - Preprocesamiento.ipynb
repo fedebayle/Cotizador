{
 "metadata": {
  "name": "",
  "signature": "sha256:661c60ff6d05fad0b5ae891670e762db7534494a6d6d296bb163e92cd0d322e8"
 },
 "nbformat": 3,
 "nbformat_minor": 0,
 "worksheets": [
  {
   "cells": [
    {
     "cell_type": "markdown",
     "metadata": {},
     "source": [
      "### Cargo las librer\u00edas"
     ]
    },
    {
     "cell_type": "code",
     "collapsed": false,
     "input": [
      "#cargo las librer\u00edas\n",
      "%matplotlib inline\n",
      "\n",
      "import pandas as pd\n",
      "import numpy as np\n",
      "from IPython.display import Image\n",
      "import os\n",
      "import geopy as gp\n",
      "import seaborn as sns\n",
      "#graficos\n",
      "import matplotlib as mlp\n",
      "import matplotlib.pyplot as plt\n",
      "# machine learning\n",
      "from sklearn import cross_validation\n",
      "from sklearn import tree\n",
      "from sklearn import svm\n",
      "from sklearn import ensemble\n",
      "from sklearn import neighbors\n",
      "from sklearn import linear_model\n",
      "from sklearn import metrics\n",
      "from sklearn import preprocessing\n",
      "from sklearn.cluster import DBSCAN"
     ],
     "language": "python",
     "metadata": {},
     "outputs": [],
     "prompt_number": 2
    },
    {
     "cell_type": "markdown",
     "metadata": {},
     "source": [
      "###Cargo el dataset"
     ]
    },
    {
     "cell_type": "code",
     "collapsed": false,
     "input": [
      "#chequear path\n",
      "infile = \"properati-AR-2015-02-01-properties-sell.csv\"\n",
      "dataset = pd.read_csv(infile,header=0)\n",
      "pd.set_option('display.max_columns', None) # Display any number of columns"
     ],
     "language": "python",
     "metadata": {},
     "outputs": [],
     "prompt_number": 48
    },
    {
     "cell_type": "markdown",
     "metadata": {},
     "source": [
      "###Parseo la ciudad asignada por Properati (me quedo solo con CABA)"
     ]
    },
    {
     "cell_type": "code",
     "collapsed": false,
     "input": [
      "ciudad=pd.Series(pd.DataFrame(dataset.place_with_parent_names.apply(lambda x: pd.Series(x.split('|')))).iloc[:,2], name='ciudad')\n",
      "dataset=pd.concat([dataset, ciudad], axis=1)\n",
      "###### Me quedo solo con CABA\n",
      "dataset_short=dataset[dataset.ciudad==\"Capital Federal\"]\n",
      "dataset_short=dataset_short[['lat', 'lon','geonames_id','price','price_aprox_usd','price_usd_per_m2','surface_in_m2', 'floor','rooms']]\n",
      "dataset_short=dataset_short.reset_index(drop=True)"
     ],
     "language": "python",
     "metadata": {},
     "outputs": []
    },
    {
     "cell_type": "markdown",
     "metadata": {},
     "source": [
      "##Nuevos feautures"
     ]
    },
    {
     "cell_type": "markdown",
     "metadata": {},
     "source": [
      "###Variables de distancia"
     ]
    },
    {
     "cell_type": "markdown",
     "metadata": {},
     "source": [
      "####Reproyecto datasets CABA"
     ]
    },
    {
     "cell_type": "code",
     "collapsed": false,
     "input": [
      "#librerias\n",
      "from geopandas import GeoSeries, GeoDataFrame\n",
      "from geopy.distance import great_circle\n",
      "from shapely.geometry import Point"
     ],
     "language": "python",
     "metadata": {},
     "outputs": [],
     "prompt_number": 50
    },
    {
     "cell_type": "code",
     "collapsed": false,
     "input": [
      "#reproyecto, crs target es WGS84 (probar con otras)\n",
      "new_crs = {'datum':'WGS84', 'no_defs':True, 'proj':'longlat'}\n",
      "def reproy(shp,crs_out):\n",
      "    datos=GeoDataFrame.from_file(shp)\n",
      "    datos.to_crs(crs=new_crs,inplace=True)\n",
      "    return datos"
     ],
     "language": "python",
     "metadata": {},
     "outputs": [],
     "prompt_number": 51
    },
    {
     "cell_type": "code",
     "collapsed": false,
     "input": [
      "#reproyecto algunos datasets de BA data\n",
      "subte=reproy('Subte/estaciones_de_subte.shp',new_crs)\n",
      "comisaria=reproy('comisarias/comisarias_policia_federal.shp',new_crs)\n",
      "verdes_pub=reproy('verdes_pub/espacios-verdes-publicos.shp',new_crs)\n",
      "verdes_priv=reproy('verdes_priv/espacios-verdes-privados.shp',new_crs)\n",
      "hospitales=reproy('hospitales/hospitales_gcba.shp',new_crs)\n",
      "tren=reproy('tren/linea ferrocarril_1991.shp',new_crs)\n",
      "metrobus=reproy('metrobus/estaciones_de_metrobus.shp',new_crs)\n",
      "comunas=reproy('comunas/comunas.shp',new_crs)\n",
      "barrios=reproy('barrios/barrios.shp',new_crs)\n",
      "escuelas_pub=reproy('escuela_pub/Establecimientos_Educativos_Publicos/establecimientos_educativos_publicos.shp',new_crs)\n",
      "escuelas_priv=reproy('escuela_priv/Establecimientos_Educativos_Privados/establecimientos_educativos_privados.shp',new_crs)\n",
      "manzanas=reproy('manzanas/manzanero_130212.shp',new_crs)"
     ],
     "language": "python",
     "metadata": {},
     "outputs": [],
     "prompt_number": 52
    },
    {
     "cell_type": "markdown",
     "metadata": {},
     "source": [
      "####Point into polygon (ej para comunas y manzanas)"
     ]
    },
    {
     "cell_type": "code",
     "collapsed": false,
     "input": [
      "def in_comuna(name):\n",
      "    a=[]\n",
      "    for j,row in dataset_short.T.iteritems():\n",
      "        try:\n",
      "            a.append(int(comunas[comunas['geometry'].contains(Point(dataset_short['lon'].ix[j],dataset_short['lat'].ix[j]))==True].COMUNAS.iloc[0]))\n",
      "        except:\n",
      "            a.append('ver coord')\n",
      "    comuna_in=pd.DataFrame(a, columns=[name])\n",
      "    return comuna_in\n",
      "dataset_short=pd.concat([dataset_short,in_comuna('comunas')],axis=1)"
     ],
     "language": "python",
     "metadata": {},
     "outputs": [],
     "prompt_number": 53
    },
    {
     "cell_type": "code",
     "collapsed": false,
     "input": [
      "def in_manzana(name):\n",
      "    a=[]\n",
      "    for j,row in dataset_short.T.iteritems():\n",
      "        try:\n",
      "            a.append(int(manzanas[manzanas['geometry'].contains(Point(dataset_short['lon'].ix[j],dataset_short['lat'].ix[j]))==True].MANZ.iloc[0]))\n",
      "        except:\n",
      "            a.append('ver coord')\n",
      "    comuna_in=pd.DataFrame(a, columns=[name])\n",
      "    return comuna_in\n",
      "dataset_short=pd.concat([dataset_short,in_manzana('manzana')],axis=1)"
     ],
     "language": "python",
     "metadata": {},
     "outputs": [],
     "prompt_number": 54
    },
    {
     "cell_type": "code",
     "collapsed": false,
     "input": [
      "def in_barrio(name):\n",
      "    a=[]\n",
      "    for j,row in dataset_short.T.iteritems():\n",
      "        try:\n",
      "            a.append(str(barrios[barrios['geometry'].contains(Point(dataset_short['lon'].ix[j],dataset_short['lat'].ix[j]))==True].BARRIO.iloc[0]))\n",
      "        except:\n",
      "            a.append('ver coord')\n",
      "    comuna_in=pd.DataFrame(a, columns=[name])\n",
      "    return comuna_in\n",
      "dataset_short=pd.concat([dataset_short,in_barrio('barrio_ba_data')],axis=1)"
     ],
     "language": "python",
     "metadata": {},
     "outputs": [],
     "prompt_number": 55
    },
    {
     "cell_type": "markdown",
     "metadata": {},
     "source": [
      "####Distancia a 'points'"
     ]
    },
    {
     "cell_type": "code",
     "collapsed": false,
     "input": [
      "from shapely.geometry import Point\n",
      "from geopy.distance import great_circle\n",
      "def min_dist(data, nombre):\n",
      "    a=[]\n",
      "    name=\"min_dist_\"+str(nombre)\n",
      "    for i,row in dataset_short.T.iteritems():\n",
      "        a.append(np.min(data['geometry'].distance(Point(dataset_short['lon'].ix[i],dataset_short['lat'].ix[i]))))   \n",
      "    distancias=pd.DataFrame(a, columns=[name])\n",
      "    return distancias     "
     ],
     "language": "python",
     "metadata": {},
     "outputs": [],
     "prompt_number": 56
    },
    {
     "cell_type": "code",
     "collapsed": false,
     "input": [
      "dataset_short=pd.concat([dataset_short, min_dist(comisaria,\"comisaria\"),min_dist(subte,\"subte\"),min_dist(metrobus,\"metrobus\"),min_dist(hospitales,\"hospital\")],axis=1)\n",
      "dataset_short=pd.concat([dataset_short, min_dist(verdes_pub,\"verdes_pub\"),min_dist(verdes_priv,\"verdes_priv\"),min_dist(tren,\"tren\"),min_dist(escuelas_pub,'escuelas_pub'),min_dist(escuelas_priv,'escuelas_priv')],axis=1)"
     ],
     "language": "python",
     "metadata": {},
     "outputs": []
    },
    {
     "cell_type": "markdown",
     "metadata": {},
     "source": [
      "##Limpieza"
     ]
    },
    {
     "cell_type": "markdown",
     "metadata": {},
     "source": [
      "####Saco datos sin coordenadas"
     ]
    },
    {
     "cell_type": "code",
     "collapsed": false,
     "input": [
      "dataset_caba=dataset_short[dataset_short.comunas!='ver coord']"
     ],
     "language": "python",
     "metadata": {},
     "outputs": []
    },
    {
     "cell_type": "markdown",
     "metadata": {},
     "source": [
      "####Remuevo outliers"
     ]
    },
    {
     "cell_type": "code",
     "collapsed": false,
     "input": [
      "# remuevo de manera est\u00e1ndar (N.Pow, et.al (2014))\n",
      "mask = np.abs(dataset_caba['price_aprox_usd']-dataset_caba['price_aprox_usd'].median()) <= (3*dataset_caba['price_aprox_usd'].std())\n",
      "dataset_caba=dataset_caba[mask]\n"
     ],
     "language": "python",
     "metadata": {},
     "outputs": []
    },
    {
     "cell_type": "markdown",
     "metadata": {},
     "source": [
      "###Interesante: importar data desde CartoDB"
     ]
    },
    {
     "cell_type": "code",
     "collapsed": false,
     "input": [
      "#http://docs.cartodb.com/cartodb-platform/sql-api.html#sql-api\n",
      "#https://github.com/Vizzuality/cartodb-python\n",
      "from cartodb import CartoDBAPIKey, CartoDBException\n",
      "\n",
      "API_KEY ='YOUR_CARTODB_API_KEY'\n",
      "cartodb_domain = 'YOUR_CARTODB_DOMAIN'\n",
      "cl = CartoDBAPIKey(API_KEY, cartodb_domain)\n",
      "try:\n",
      "   print cl.sql('select * from mytable')\n",
      "except CartoDBException as e:\n",
      "   print (\"some error ocurred\", e)"
     ],
     "language": "python",
     "metadata": {},
     "outputs": []
    },
    {
     "cell_type": "markdown",
     "metadata": {},
     "source": [
      "## Analisis no Supervisado (pruebas)"
     ]
    },
    {
     "cell_type": "markdown",
     "metadata": {},
     "source": [
      "### Estabilidad de Cant. de Clusters (m\u00e9todo: DBSCAN)"
     ]
    },
    {
     "cell_type": "code",
     "collapsed": false,
     "input": [
      "def clusters(data,epsilon):\n",
      "    db = DBSCAN(eps=epsilon, min_samples=1).fit(data.as_matrix(columns=data.columns))\n",
      "    labels = db.labels_\n",
      "    num_clusters = len(set(labels)) - (1 if -1 in labels else 0)\n",
      "    return num_clusters"
     ],
     "language": "python",
     "metadata": {},
     "outputs": [],
     "prompt_number": 70
    },
    {
     "cell_type": "code",
     "collapsed": false,
     "input": [
      "data=dataset_caba[dataset_caba.columns[-9:]]\n",
      "a=[]\n",
      "b=[]\n",
      "for i in np.arange(0.001,0.1,0.001).tolist():\n",
      "       a.append(clusters(data,i))\n",
      "       b.append(i)\n",
      "epsi=pd.concat([pd.DataFrame(b,columns=['epsilon']),pd.DataFrame(a,columns=['cant_clusters'])],axis=1)\n",
      "plt.plot(epsi['epsilon'],epsi['cant_clusters'])\n",
      "plt.ylabel(epsi.columns[1])\n",
      "#plt.axis(np.arange(0.001,0.1,0.001).tolist())\n",
      "plt.xlabel(epsi.columns[0])\n",
      "plt.show()"
     ],
     "language": "python",
     "metadata": {},
     "outputs": []
    },
    {
     "cell_type": "code",
     "collapsed": false,
     "input": [
      "data=dataset_caba[['lon', 'lat']]\n",
      "a=[]\n",
      "b=[]\n",
      "for i in np.arange(0.001,0.1,0.001).tolist():\n",
      "        a.append(clusters(data,i))\n",
      "        b.append(i)\n",
      "epsi=pd.concat([pd.DataFrame(b,columns=['epsilon']),pd.DataFrame(a,columns=['cant_clusters'])],axis=1)\n",
      "plt.plot(epsi['epsilon'],epsi['cant_clusters'])\n",
      "plt.ylabel(epsi.columns[1])\n",
      "plt.xticks(np.arange(0.001,0.1,0.01))\n",
      "plt.yticks(range(0,100,10))\n",
      "plt.axis([0.001,0.1,0,100])#np.arange(0.001,0.1,0.001).tolist()[[0,500],)\n",
      "plt.xlabel(epsi.columns[0])\n",
      "plt.show()"
     ],
     "language": "python",
     "metadata": {},
     "outputs": [
      {
       "metadata": {},
       "output_type": "display_data",
       "png": "[encoded data removed]",
       "text": [
        "<matplotlib.figure.Figure at 0x1245f790>"
       ]
      }
     ],
     "prompt_number": 97
    }
   ],
   "metadata": {}
  }
 ]
}