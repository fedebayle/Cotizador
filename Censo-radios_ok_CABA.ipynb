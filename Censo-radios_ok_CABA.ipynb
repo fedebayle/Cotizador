{
 "metadata": {
  "name": "",
  "signature": "sha256:908018def6c257f4ed4a208faa042887cb52e6f236eb25cb459b4ee36ee557a1"
 },
 "nbformat": 3,
 "nbformat_minor": 0,
 "worksheets": [
  {
   "cells": [
    {
     "cell_type": "code",
     "collapsed": false,
     "input": [
      "#cargo las librer\u00edas\n",
      "%matplotlib inline\n",
      "\n",
      "import pandas as pd\n",
      "import numpy as np\n",
      "from IPython.display import Image\n",
      "import os\n",
      "import geopy as gp\n",
      "import seaborn as sns\n",
      "os.chdir('/home/fedebayle/Documentos/Censo')"
     ],
     "language": "python",
     "metadata": {},
     "outputs": [],
     "prompt_number": 9
    },
    {
     "cell_type": "code",
     "collapsed": false,
     "input": [
      "#librerias\n",
      "from geopandas import GeoSeries, GeoDataFrame\n",
      "from geopy.distance import great_circle\n",
      "from shapely.geometry import Point"
     ],
     "language": "python",
     "metadata": {},
     "outputs": [],
     "prompt_number": 6
    },
    {
     "cell_type": "code",
     "collapsed": false,
     "input": [
      "#reproyecto, crs target es WGS84 (probar con otras)\n",
      "new_crs = {'datum':'WGS84', 'no_defs':True, 'proj':'longlat'}\n",
      "def reproy(shp,crs_out):\n",
      "    datos=GeoDataFrame.from_file(shp)\n",
      "    datos.to_crs(crs=new_crs,inplace=True)\n",
      "    return datos"
     ],
     "language": "python",
     "metadata": {},
     "outputs": [],
     "prompt_number": 3
    },
    {
     "cell_type": "code",
     "collapsed": false,
     "input": [
      "def rad_caba(shp,file):\n",
      "    radios=reproy(shp, new_crs)\n",
      "    radios['FRAC']=map(lambda x: x.rsplit(\"_\",2)[1].zfill(2),radios.CO_FRAC_RA)\n",
      "    radios['RA']=map(lambda x: x.rsplit(\"_\",2)[2].zfill(2),radios.CO_FRAC_RA)\n",
      "    radios['CO']=map(lambda x: str(int(x.rsplit(\"_\",2)[0])),radios.CO_FRAC_RA)\n",
      "    radios['CO_indec']=map(lambda x: str(x.rsplit(\"_\",2)[0]).zfill(3),radios.CO_FRAC_RA)\n",
      "    radios['indec']=map(lambda x,y,z: '02'+x+y+z, radios.CO_indec, radios.FRAC, radios.RA)\n",
      "    radios[['indec', 'geometry','CO']].to_file(file)"
     ],
     "language": "python",
     "metadata": {},
     "outputs": [],
     "prompt_number": 14
    },
    {
     "cell_type": "code",
     "collapsed": false,
     "input": [
      "rad_caba('radios_caba_censo_2010/radios_censo_2010.shp','radios_indec')"
     ],
     "language": "python",
     "metadata": {},
     "outputs": [],
     "prompt_number": 15
    },
    {
     "cell_type": "code",
     "collapsed": false,
     "input": [],
     "language": "python",
     "metadata": {},
     "outputs": []
    }
   ],
   "metadata": {}
  }
 ]
}